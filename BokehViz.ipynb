{
 "cells": [
  {
   "cell_type": "code",
   "execution_count": 1,
   "metadata": {
    "collapsed": false
   },
   "outputs": [],
   "source": [
    "# visualizing environmental sensors data using Bokeh package\n",
    "# similar data files can be found in the data folder on GitHub\n",
    "import numpy as np\n",
    "import pandas as pd\n",
    "from bokeh.plotting import figure, show\n",
    "folder = 'E:/data/d4d/env/data/nov28/'\n",
    "fName1 = 'ak.csv'\n",
    "fName2 = 'eqa.csv'\n",
    "fName3 = 'nzitce.csv'\n",
    "heads = ['tstamp', 'temp', 'rh', 'PM25', 'pmv', 'lat', 'lon', 'alt']\n",
    "csvFile1 = ''.join([folder, fName1]) \n",
    "data1 = pd.read_csv(csvFile1, sep=',', header=0, names= heads)\n",
    "csvFile2 = ''.join([folder, fName2]) \n",
    "data2 = pd.read_csv(csvFile2, sep=',', header=0, names= heads)\n",
    "csvFile3 = ''.join([folder, fName3]) \n",
    "data3 = pd.read_csv(csvFile3, sep=',', header=0, names= heads)"
   ]
  },
  {
   "cell_type": "code",
   "execution_count": 2,
   "metadata": {
    "collapsed": false
   },
   "outputs": [
    {
     "data": {
      "text/html": [
       "<div>\n",
       "<table border=\"1\" class=\"dataframe\">\n",
       "  <thead>\n",
       "    <tr style=\"text-align: right;\">\n",
       "      <th></th>\n",
       "      <th>tstamp</th>\n",
       "      <th>temp</th>\n",
       "      <th>rh</th>\n",
       "      <th>PM25</th>\n",
       "      <th>pmv</th>\n",
       "      <th>lat</th>\n",
       "      <th>lon</th>\n",
       "      <th>alt</th>\n",
       "    </tr>\n",
       "  </thead>\n",
       "  <tbody>\n",
       "    <tr>\n",
       "      <th>0</th>\n",
       "      <td>11/24/2016 12:00:42</td>\n",
       "      <td>18.44</td>\n",
       "      <td>8.01</td>\n",
       "      <td>0.94</td>\n",
       "      <td>0.26123</td>\n",
       "      <td>---</td>\n",
       "      <td>---</td>\n",
       "      <td>---</td>\n",
       "    </tr>\n",
       "    <tr>\n",
       "      <th>1</th>\n",
       "      <td>11/24/2016 12:01:42</td>\n",
       "      <td>18.44</td>\n",
       "      <td>7.27</td>\n",
       "      <td>0.34</td>\n",
       "      <td>0.17761</td>\n",
       "      <td>---</td>\n",
       "      <td>---</td>\n",
       "      <td>---</td>\n",
       "    </tr>\n",
       "    <tr>\n",
       "      <th>2</th>\n",
       "      <td>11/24/2016 12:02:42</td>\n",
       "      <td>18.46</td>\n",
       "      <td>9.54</td>\n",
       "      <td>1.13</td>\n",
       "      <td>0.29297</td>\n",
       "      <td>---</td>\n",
       "      <td>---</td>\n",
       "      <td>---</td>\n",
       "    </tr>\n",
       "    <tr>\n",
       "      <th>3</th>\n",
       "      <td>11/24/2016 12:03:42</td>\n",
       "      <td>18.47</td>\n",
       "      <td>7.49</td>\n",
       "      <td>1.01</td>\n",
       "      <td>0.21301</td>\n",
       "      <td>---</td>\n",
       "      <td>---</td>\n",
       "      <td>---</td>\n",
       "    </tr>\n",
       "    <tr>\n",
       "      <th>4</th>\n",
       "      <td>11/24/2016 12:04:42</td>\n",
       "      <td>18.44</td>\n",
       "      <td>9.24</td>\n",
       "      <td>1.2</td>\n",
       "      <td>0.52307</td>\n",
       "      <td>---</td>\n",
       "      <td>---</td>\n",
       "      <td>---</td>\n",
       "    </tr>\n",
       "  </tbody>\n",
       "</table>\n",
       "</div>"
      ],
      "text/plain": [
       "                tstamp   temp    rh  PM25      pmv  lat  lon  alt\n",
       "0  11/24/2016 12:00:42  18.44  8.01  0.94  0.26123  ---  ---  ---\n",
       "1  11/24/2016 12:01:42  18.44  7.27  0.34  0.17761  ---  ---  ---\n",
       "2  11/24/2016 12:02:42  18.46  9.54  1.13  0.29297  ---  ---  ---\n",
       "3  11/24/2016 12:03:42  18.47  7.49  1.01  0.21301  ---  ---  ---\n",
       "4  11/24/2016 12:04:42  18.44  9.24   1.2  0.52307  ---  ---  ---"
      ]
     },
     "execution_count": 2,
     "metadata": {},
     "output_type": "execute_result"
    }
   ],
   "source": [
    "data1.shape\n",
    "data1[:5]"
   ]
  },
  {
   "cell_type": "code",
   "execution_count": 3,
   "metadata": {
    "collapsed": false
   },
   "outputs": [],
   "source": [
    "x = data1['tstamp'].apply(lambda xt: pd.to_datetime(xt))\n",
    "y = data2['tstamp'].apply(lambda yt: pd.to_datetime(yt))\n",
    "z = data3['tstamp'].apply(lambda zt: pd.to_datetime(zt))\n",
    "#temp = data['temp']\n",
    "#rh = data['rh']\n",
    "#no2 = data['NO2']\n",
    "#co = data['CO']\n",
    "pm1 = data1['PM25']\n",
    "pm2 = data2['PM25']\n",
    "pm3 = data3['PM25']\n",
    "# create a new plot\n",
    "p = figure(width=1000, height=650,\n",
    "   tools=\"pan,box_zoom,reset,save\",\n",
    "    title=\"PM25 in Ramallah on Nov 24 - 28\",\n",
    "   x_axis_label='date and time', y_axis_label='PM', x_axis_type=\"datetime\"\n",
    ")\n",
    "\n",
    "# add some renderers\n",
    "p.line(x, pm1, legend=\"PM25 over time AK\", line_color=\"blue\")\n",
    "p.line(y, pm2, legend=\"PM25 over time EQA\", line_color=\"green\")\n",
    "p.line(z, pm3, legend=\"PM25 over time NZITCE\", line_color=\"red\")\n",
    "p.legend.location = \"top_left\"\n",
    "# show the results\n",
    "show(p)"
   ]
  },
  {
   "cell_type": "code",
   "execution_count": null,
   "metadata": {
    "collapsed": true
   },
   "outputs": [],
   "source": []
  }
 ],
 "metadata": {
  "anaconda-cloud": {},
  "kernelspec": {
   "display_name": "Python [default]",
   "language": "python",
   "name": "python3"
  },
  "language_info": {
   "codemirror_mode": {
    "name": "ipython",
    "version": 3
   },
   "file_extension": ".py",
   "mimetype": "text/x-python",
   "name": "python",
   "nbconvert_exporter": "python",
   "pygments_lexer": "ipython3",
   "version": "3.5.2"
  }
 },
 "nbformat": 4,
 "nbformat_minor": 1
}
